{
 "cells": [
  {
   "cell_type": "code",
   "execution_count": 1,
   "id": "81a96228",
   "metadata": {},
   "outputs": [],
   "source": [
    "import pandas as pd\n",
    "import json\n",
    "import numpy as np\n",
    "import os"
   ]
  },
  {
   "cell_type": "code",
   "execution_count": 17,
   "id": "bdc2106b",
   "metadata": {},
   "outputs": [
    {
     "name": "stdout",
     "output_type": "stream",
     "text": [
      "[INFO] Loaded 5062 packets\n",
      "['Timestamp', 'Src_IP', 'Dst_IP', 'Protocol', 'Src_Port', 'Dst_Port', 'Size']\n",
      "[INFO] Loaded 2731 threat entries\n",
      "<class 'list'>\n",
      "[{'timestamp': '2025-10-24 16:08:06', 'type': 'Possible DoS Attack', 'src': '192.168.29.181', 'dst': '224.0.0.22', 'proto': 2, 'size': 54}, {'timestamp': '2025-10-24 16:08:08', 'type': 'Possible DoS Attack', 'src': '192.168.29.181', 'dst': '13.89.178.26', 'proto': 6, 'size': 172}, {'timestamp': '2025-10-24 16:08:08', 'type': 'Possible DoS Attack', 'src': '192.168.29.181', 'dst': '13.89.178.26', 'proto': 6, 'size': 1494}, {'timestamp': '2025-10-24 16:08:08', 'type': 'Possible DoS Attack', 'src': '192.168.29.181', 'dst': '13.89.178.26', 'proto': 6, 'size': 1494}, {'timestamp': '2025-10-24 16:08:08', 'type': 'Possible DoS Attack', 'src': '192.168.29.181', 'dst': '13.89.178.26', 'proto': 6, 'size': 1494}]\n"
     ]
    }
   ],
   "source": [
    "packets = pd.read_csv(r\"C:\\Users\\lenovo\\NETGUARD-AI\\data\\packets_log.csv\")\n",
    "print(f\"[INFO] Loaded {len(packets)} packets\")\n",
    "print(packets.columns.tolist())\n",
    "\n",
    "with open(r\"C:\\Users\\lenovo\\NETGUARD-AI\\data\\threat_logs.json\") as f:\n",
    "    threats = json.load(f)\n",
    "print(f\"[INFO] Loaded {len(threats)} threat entries\")\n",
    "print(type(threats))\n",
    "print(threats[:5])"
   ]
  },
  {
   "cell_type": "code",
   "execution_count": 18,
   "id": "18be8666",
   "metadata": {},
   "outputs": [],
   "source": [
    "# Convert threat list to dict mapping flow_id -> threat type\n",
    "threats_dict = {}\n",
    "for item in threats:\n",
    "    flow_id = f\"{item['src']}_{item['dst']}_{item['proto']}\"\n",
    "    # You can encode threat types as integers (0=no threat, 1=attack)\n",
    "    threats_dict[flow_id] = 1  # mark all listed threats as 1"
   ]
  },
  {
   "cell_type": "code",
   "execution_count": 19,
   "id": "a7253153",
   "metadata": {},
   "outputs": [],
   "source": [
    "packets['flow_id'] = (\n",
    "    packets['Src_IP'].astype(str) + '_' +\n",
    "    packets['Dst_IP'].astype(str) + '_' +\n",
    "    packets['Protocol'].astype(str)\n",
    ")\n",
    "\n",
    "packets['threat'] = packets['flow_id'].map(threats_dict).fillna(0).astype(int) # 0 = no threat"
   ]
  },
  {
   "cell_type": "code",
   "execution_count": 23,
   "id": "2625d220",
   "metadata": {},
   "outputs": [],
   "source": [
    "agg_funcs = {\n",
    "    'Size': ['mean', 'max', 'min', 'std'],\n",
    "    'Timestamp': ['min', 'max', 'count'],\n",
    "    'threat': 'max'\n",
    "}"
   ]
  },
  {
   "cell_type": "code",
   "execution_count": 24,
   "id": "e8fa30bf",
   "metadata": {},
   "outputs": [],
   "source": [
    "flow_features = packets.groupby('flow_id').agg(agg_funcs)\n",
    "flow_features.columns = ['_'.join(col).strip() for col in flow_features.columns.values]"
   ]
  },
  {
   "cell_type": "code",
   "execution_count": 26,
   "id": "ed64ae7b",
   "metadata": {},
   "outputs": [],
   "source": [
    "packets['flow_id'] = packets['Src_IP'].astype(str) + '_' + packets['Dst_IP'].astype(str) + '_' + packets['Protocol'].astype(str)\n",
    "\n",
    "packets['threat'] = packets['flow_id'].map(threats_dict).fillna(0).astype(int)\n"
   ]
  },
  {
   "cell_type": "code",
   "execution_count": 28,
   "id": "e401042e",
   "metadata": {},
   "outputs": [],
   "source": [
    "flow_features.reset_index(inplace=True)\n",
    "flow_features.rename(columns={'threat': 'threat_label'}, inplace=True)"
   ]
  },
  {
   "cell_type": "code",
   "execution_count": 32,
   "id": "7721f570",
   "metadata": {},
   "outputs": [],
   "source": [
    "flow_features.drop(columns=['threat_label']).to_csv(r\"C:\\Users\\lenovo\\NETGUARD-AI\\data\\packets_feature.csv\", index=False)\n",
    "\n",
    "flow_features.to_csv(r\"C:\\Users\\lenovo\\NETGUARD-AI\\data\\combined_packets.csv\", index=False)"
   ]
  }
 ],
 "metadata": {
  "kernelspec": {
   "display_name": "Python 3",
   "language": "python",
   "name": "python3"
  },
  "language_info": {
   "codemirror_mode": {
    "name": "ipython",
    "version": 3
   },
   "file_extension": ".py",
   "mimetype": "text/x-python",
   "name": "python",
   "nbconvert_exporter": "python",
   "pygments_lexer": "ipython3",
   "version": "3.12.5"
  }
 },
 "nbformat": 4,
 "nbformat_minor": 5
}
