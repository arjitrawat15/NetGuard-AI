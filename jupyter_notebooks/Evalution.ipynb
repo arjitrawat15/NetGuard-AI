{
 "cells": [
  {
   "cell_type": "code",
   "execution_count": 8,
   "id": "2cc16905",
   "metadata": {},
   "outputs": [],
   "source": [
    "import os\n",
    "import pandas as pd\n",
    "\n",
    "new_packet_file = r\"C:\\Users\\lenovo\\NETGUARD-AI\\data\\real_time_packets.csv\"\n",
    "\n",
    "# Initialize CSV with headers if it doesn't exist\n",
    "if not os.path.isfile(new_packet_file):\n",
    "    pd.DataFrame(columns=['timestamp', 'src_ip', 'dst_ip', 'protocol', 'length']).to_csv(new_packet_file, index=False)\n"
   ]
  },
  {
   "cell_type": "code",
   "execution_count": 9,
   "id": "e1af0eca",
   "metadata": {},
   "outputs": [
    {
     "name": "stdout",
     "output_type": "stream",
     "text": [
      "Captured 1000 packets. Stopping capture.\n",
      "True\n"
     ]
    },
    {
     "data": {
      "text/plain": [
       "<Sniffed: TCP:0 UDP:0 ICMP:0 Other:0>"
      ]
     },
     "execution_count": 9,
     "metadata": {},
     "output_type": "execute_result"
    }
   ],
   "source": [
    "from scapy.all import sniff, IP\n",
    "import datetime\n",
    "\n",
    "packet_count = 0\n",
    "max_packets = 1000\n",
    "\n",
    "def capture_packet(packet):\n",
    "    global packet_count\n",
    "    if IP in packet and packet_count < max_packets:\n",
    "        pkt_info = {\n",
    "            'timestamp': datetime.datetime.now(),\n",
    "            'src_ip': packet[IP].src,\n",
    "            'dst_ip': packet[IP].dst,\n",
    "            'protocol': packet[IP].proto,\n",
    "            'length': len(packet)\n",
    "        }\n",
    "        # Append to CSV\n",
    "        pd.DataFrame([pkt_info]).to_csv(new_packet_file, mode='a', header=False, index=False)\n",
    "        packet_count += 1\n",
    "        if packet_count >= max_packets:\n",
    "            print(f\"Captured {max_packets} packets. Stopping capture.\")\n",
    "            return True\n",
    "\n",
    "# Start sniffing\n",
    "sniff(iface='Wi-Fi', prn=capture_packet, store=False, stop_filter=lambda x: packet_count >= max_packets)\n"
   ]
  },
  {
   "cell_type": "code",
   "execution_count": 17,
   "id": "554cdc99",
   "metadata": {},
   "outputs": [
    {
     "name": "stdout",
     "output_type": "stream",
     "text": [
      "Features used during training:\n",
      "['index' 'Size_mean' 'Size_max' 'Size_min' 'Size_std' 'Timestamp_count']\n"
     ]
    }
   ],
   "source": [
    "import joblib\n",
    "\n",
    "model = joblib.load(r\"C:\\Users\\lenovo\\NETGUARD-AI\\models\\netguard_rf_model.pkl\")\n",
    "\n",
    "try:\n",
    "    print(\"Features used during training:\")\n",
    "    print(model.feature_names_in_)\n",
    "except AttributeError:\n",
    "    print(\"Feature names not stored in model. You might need to check your training script.\")\n"
   ]
  },
  {
   "cell_type": "code",
   "execution_count": 19,
   "id": "a9cfeb47",
   "metadata": {},
   "outputs": [
    {
     "name": "stdout",
     "output_type": "stream",
     "text": [
      "   index  Size_mean  Size_max  Size_min    Size_std  Timestamp_count\n",
      "0    999     611.76      1514        43  650.314537             1000\n"
     ]
    }
   ],
   "source": [
    "import pandas as pd\n",
    "\n",
    "# Load captured packets\n",
    "packets = pd.read_csv(r\"C:\\Users\\lenovo\\NETGUARD-AI\\data\\real_time_packets.csv\")\n",
    "\n",
    "# Add index column\n",
    "packets['index'] = range(len(packets))\n",
    "\n",
    "# Aggregate Size statistics\n",
    "size_mean = packets['length'].mean()\n",
    "size_max = packets['length'].max()\n",
    "size_min = packets['length'].min()\n",
    "size_std = packets['length'].std()\n",
    "timestamp_count = len(packets)\n",
    "\n",
    "features_df = pd.DataFrame([{\n",
    "    'index': packets['index'].iloc[-1],\n",
    "    'Size_mean': size_mean,\n",
    "    'Size_max': size_max,\n",
    "    'Size_min': size_min,\n",
    "    'Size_std': size_std,\n",
    "    'Timestamp_count': timestamp_count\n",
    "}])\n",
    "\n",
    "print(features_df)"
   ]
  },
  {
   "cell_type": "code",
   "execution_count": 22,
   "id": "05b70a9a",
   "metadata": {},
   "outputs": [
    {
     "name": "stdout",
     "output_type": "stream",
     "text": [
      "Threat prediction saved to C:\\Users\\lenovo\\NETGUARD-AI\\data\\output.csv\n"
     ]
    }
   ],
   "source": [
    "output_file = r\"C:\\Users\\lenovo\\NETGUARD-AI\\data\\output.csv\"\n",
    "\n",
    "threat = model.predict(features_df)[0]\n",
    "\n",
    "results_df = pd.DataFrame([{'threat': threat}])\n",
    "results_df.to_csv(output_file, index=False)\n",
    "\n",
    "print(f\"Threat prediction saved to {output_file}\")\n"
   ]
  },
  {
   "cell_type": "code",
   "execution_count": 23,
   "id": "5ef9a2b6",
   "metadata": {},
   "outputs": [
    {
     "name": "stdout",
     "output_type": "stream",
     "text": [
      "Aggregated features for prediction:\n",
      "   index  Size_mean  Size_max  Size_min    Size_std  Timestamp_count\n",
      "0    999     611.76      1514        43  650.314537             1000\n",
      "Features used during training:\n",
      "['index' 'Size_mean' 'Size_max' 'Size_min' 'Size_std' 'Timestamp_count']\n",
      "Threat prediction saved to C:\\Users\\lenovo\\NETGUARD-AI\\data\\output.csv\n",
      "Predicted threat: 0\n"
     ]
    }
   ],
   "source": [
    "import pandas as pd\n",
    "import joblib\n",
    "\n",
    "# -----------------------------\n",
    "# Step 1: Load captured packets\n",
    "# -----------------------------\n",
    "packets_file = r\"C:\\Users\\lenovo\\NETGUARD-AI\\data\\real_time_packets.csv\"\n",
    "packets = pd.read_csv(packets_file)\n",
    "\n",
    "# Add index column\n",
    "packets['index'] = range(len(packets))\n",
    "\n",
    "# -----------------------------\n",
    "# Step 2: Compute aggregated features\n",
    "# -----------------------------\n",
    "size_mean = packets['length'].mean()\n",
    "size_max = packets['length'].max()\n",
    "size_min = packets['length'].min()\n",
    "size_std = packets['length'].std()\n",
    "timestamp_count = len(packets)\n",
    "\n",
    "# Prepare features DataFrame (single row for the entire captured set)\n",
    "features_df = pd.DataFrame([{\n",
    "    'index': packets['index'].iloc[-1],\n",
    "    'Size_mean': size_mean,\n",
    "    'Size_max': size_max,\n",
    "    'Size_min': size_min,\n",
    "    'Size_std': size_std,\n",
    "    'Timestamp_count': timestamp_count\n",
    "}])\n",
    "\n",
    "print(\"Aggregated features for prediction:\")\n",
    "print(features_df)\n",
    "\n",
    "# -----------------------------\n",
    "# Step 3: Load pre-trained model\n",
    "# -----------------------------\n",
    "model_file = r\"C:\\Users\\lenovo\\NETGUARD-AI\\models\\netguard_rf_model.pkl\"\n",
    "model = joblib.load(model_file)\n",
    "\n",
    "# Optional: Print features used during training\n",
    "try:\n",
    "    print(\"Features used during training:\")\n",
    "    print(model.feature_names_in_)\n",
    "except AttributeError:\n",
    "    print(\"Feature names not stored in model. Please check your training script.\")\n",
    "\n",
    "# -----------------------------\n",
    "# Step 4: Predict threat\n",
    "# -----------------------------\n",
    "threat = model.predict(features_df)[0]\n",
    "\n",
    "# Save prediction to CSV\n",
    "output_file = r\"C:\\Users\\lenovo\\NETGUARD-AI\\data\\output.csv\"\n",
    "results_df = pd.DataFrame([{'threat': threat}])\n",
    "results_df.to_csv(output_file, index=False)\n",
    "\n",
    "print(f\"Threat prediction saved to {output_file}\")\n",
    "print(\"Predicted threat:\", threat)\n"
   ]
  },
  {
   "cell_type": "code",
   "execution_count": 28,
   "id": "51e688f0",
   "metadata": {},
   "outputs": [
    {
     "name": "stdout",
     "output_type": "stream",
     "text": [
      "Threat predictions saved for each window!\n"
     ]
    }
   ],
   "source": [
    "import pandas as pd\n",
    "import joblib\n",
    "\n",
    "packets = pd.read_csv(r\"C:\\Users\\lenovo\\NETGUARD-AI\\data\\real_time_packets.csv\")\n",
    "model = joblib.load(r\"C:\\Users\\lenovo\\NETGUARD-AI\\models\\netguard_rf_model.pkl\")\n",
    "\n",
    "window_size = 10\n",
    "results = []\n",
    "\n",
    "for start in range(0, len(packets), window_size):\n",
    "    window = packets.iloc[start:start+window_size]\n",
    "    features = {\n",
    "        'index': start,\n",
    "        'Size_mean': window['length'].mean(),\n",
    "        'Size_max': window['length'].max(),\n",
    "        'Size_min': window['length'].min(),\n",
    "        'Size_std': window['length'].std(),\n",
    "        'Timestamp_count': len(window)\n",
    "    }\n",
    "    threat = model.predict(pd.DataFrame([features]))[0]\n",
    "    features['threat'] = threat\n",
    "    results.append(features)\n",
    "\n",
    "results_df = pd.DataFrame(results)\n",
    "results_df.to_csv(r\"C:\\Users\\lenovo\\NETGUARD-AI\\data\\threats_real_time.csv\", index=False)\n",
    "print(\"Threat predictions saved for each window!\")\n"
   ]
  }
 ],
 "metadata": {
  "kernelspec": {
   "display_name": "Python 3",
   "language": "python",
   "name": "python3"
  },
  "language_info": {
   "codemirror_mode": {
    "name": "ipython",
    "version": 3
   },
   "file_extension": ".py",
   "mimetype": "text/x-python",
   "name": "python",
   "nbconvert_exporter": "python",
   "pygments_lexer": "ipython3",
   "version": "3.12.5"
  }
 },
 "nbformat": 4,
 "nbformat_minor": 5
}
